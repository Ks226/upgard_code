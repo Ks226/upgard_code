{
 "cells": [
  {
   "cell_type": "code",
   "execution_count": null,
   "metadata": {},
   "outputs": [],
   "source": [
    "def doubleStuff(a_list):\n",
    "    \"\"\" Return a new list in which contains doubles of the elements in a_list. \"\"\"\n",
    "    new_list = []\n",
    "    for value in a_list:\n",
    "        new_elem = 2 * value\n",
    "        new_list.append(new_elem)\n",
    "    return new_list\n",
    "\n",
    "things = [2, 5, 9]\n",
    "print(things)\n",
    "things = doubleStuff(things)\n",
    "print(things)\n"
   ]
  },
  {
   "cell_type": "code",
   "execution_count": 7,
   "metadata": {},
   "outputs": [
    {
     "name": "stdout",
     "output_type": "stream",
     "text": [
      "[3, 4, 3]\n",
      "[6, 8, 6]\n"
     ]
    }
   ],
   "source": [
    "def lst(a_list):\n",
    "    new_list = []\n",
    "    for i in a_list:\n",
    "        value = 2*i\n",
    "        new_list.append(value)\n",
    "    return new_list\n",
    "things = [3,4,3]\n",
    "print(things)\n",
    "things =  lst(things)\n",
    "print(things)\n",
    "    \n",
    "    "
   ]
  },
  {
   "cell_type": "code",
   "execution_count": 8,
   "metadata": {},
   "outputs": [
    {
     "name": "stdout",
     "output_type": "stream",
     "text": [
      "[6, 15, 27]\n",
      "[8, 20, 36]\n"
     ]
    }
   ],
   "source": [
    "def triple(value):\n",
    "    return 3*value\n",
    "\n",
    "def tripleStuff(a_list):\n",
    "    new_seq = map(triple, a_list)\n",
    "    return list(new_seq)\n",
    "\n",
    "def quadrupleStuff(a_list):\n",
    "    new_seq = map(lambda value: 4*value, a_list)\n",
    "    return list(new_seq)\n",
    "\n",
    "things = [2, 5, 9]\n",
    "things3 = tripleStuff(things)\n",
    "print(things3)\n",
    "things4 = quadrupleStuff(things)\n",
    "print(things4)\n"
   ]
  },
  {
   "cell_type": "code",
   "execution_count": null,
   "metadata": {},
   "outputs": [],
   "source": [
    "things = [2, 5, 9]\n",
    "\n",
    "things4 = map((lambda value: 4*value), things)\n",
    "print(list(things4))\n",
    "\n",
    "# or all on one line\n",
    "print(list(map((lambda value: 5*value), [1, 2, 3])))\n"
   ]
  },
  {
   "cell_type": "markdown",
   "metadata": {},
   "source": [
    "2. Below, we have provided a list of strings called abbrevs. Use map to produce a new list called abbrevs_upper that contains all the same strings in upper case.\n",
    "\n"
   ]
  },
  {
   "cell_type": "code",
   "execution_count": null,
   "metadata": {},
   "outputs": [],
   "source": [
    "\n",
    "abbrevs = [\"usa\", \"esp\", \"chn\", \"jpn\", \"mex\", \"can\", \"rus\", \"rsa\", \"jam\"]\n",
    "def f(st):\n",
    "    return st.upper()\n",
    "abbrevs_upper = map(f,abbrevs)\n",
    "print(abbrevs_upper)\n"
   ]
  },
  {
   "cell_type": "code",
   "execution_count": null,
   "metadata": {},
   "outputs": [],
   "source": [
    "1. Using map, create a list assigned to the variable greeting_doubled that doubles each element in the list lst.\n",
    "\n"
   ]
  },
  {
   "cell_type": "code",
   "execution_count": null,
   "metadata": {},
   "outputs": [],
   "source": [
    "\n",
    "lst = [[\"hi\", \"bye\"], \"hello\", \"goodbye\", [9, 2], 4]\n",
    "def st(f):\n",
    "    return f*2\n",
    "greeting_doubled = map(st,lst)\n",
    "print(greeting_doubled)"
   ]
  },
  {
   "cell_type": "code",
   "execution_count": null,
   "metadata": {},
   "outputs": [],
   "source": [
    "def keep_evens(nums):\n",
    "    new_list = []\n",
    "    for num in nums:\n",
    "        if num % 2 == 0:\n",
    "            new_list.append(num)\n",
    "    return new_list\n",
    "\n",
    "print(keep_evens([3, 4, 6, 7, 0, 1]))\n"
   ]
  },
  {
   "cell_type": "code",
   "execution_count": null,
   "metadata": {},
   "outputs": [],
   "source": [
    "def keep_evens(nums):\n",
    "    new_list = []\n",
    "    for num in nums:\n",
    "        if num % 2 == 0:\n",
    "            new_list.append(num)\n",
    "    return new_list\n",
    "\n",
    "print(keep_evens([3, 4, 6, 7, 0, 1]))\n"
   ]
  },
  {
   "cell_type": "markdown",
   "metadata": {},
   "source": [
    "1. Write code to assign to the variable filter_testing all the elements in lst_check that have a w in them using filter.\n",
    "\n"
   ]
  },
  {
   "cell_type": "code",
   "execution_count": null,
   "metadata": {},
   "outputs": [],
   "source": [
    "\n",
    "lst_check = ['plums', 'watermelon', 'kiwi', 'strawberries', 'blueberries', 'peaches', 'apples', 'mangos', 'papaya']\n",
    "filter_testing = filter(lambda words : \"w\" in words, lst_check)\n",
    "print(filter_testing)\n"
   ]
  },
  {
   "cell_type": "markdown",
   "metadata": {},
   "source": [
    "2. Using filter, filter lst so that it only contains words containing the letter “o”. Assign to variable lst2. Do not hardcode this.\n",
    "\n"
   ]
  },
  {
   "cell_type": "code",
   "execution_count": null,
   "metadata": {},
   "outputs": [],
   "source": [
    "\n",
    "lst = [\"witch\", \"halloween\", \"pumpkin\", \"cat\", \"candy\", \"wagon\", \"moon\"]\n",
    "lst2 = filter(lambda words : \"o\"in words , lst)\n",
    "print(lst2)\n"
   ]
  },
  {
   "cell_type": "code",
   "execution_count": 10,
   "metadata": {},
   "outputs": [
    {
     "name": "stdout",
     "output_type": "stream",
     "text": [
      "[2, 4, 6, 8]\n"
     ]
    }
   ],
   "source": [
    "lst = [1,2,3,4]\n",
    "new_list = [value * 2 for value in lst]\n",
    "print(new_list)"
   ]
  },
  {
   "cell_type": "code",
   "execution_count": null,
   "metadata": {},
   "outputs": [],
   "source": [
    "def keep_evens(nums):\n",
    "    new_list = [num for num in nums if num % 2 == 0]\n",
    "    return new_list\n",
    "\n",
    "print(keep_evens([3, 4, 6, 7, 0, 1]))\n"
   ]
  },
  {
   "cell_type": "code",
   "execution_count": 11,
   "metadata": {},
   "outputs": [
    {
     "name": "stdout",
     "output_type": "stream",
     "text": [
      "<map object at 0x0000018FD83C5908>\n",
      "[8, 12, 0]\n"
     ]
    }
   ],
   "source": [
    "things = [3, 4, 6, 7, 0, 1]\n",
    "#chaining together filter and map:\n",
    "# first, filter to keep only the even numbers\n",
    "# double each of them\n",
    "print(map(lambda x: x*2, filter(lambda y: y % 2 == 0, things)))\n",
    "\n",
    "# equivalent version using list comprehension\n",
    "print([x*2 for x in things if x % 2 == 0])\n"
   ]
  },
  {
   "cell_type": "markdown",
   "metadata": {},
   "source": [
    "3. Write code to assign to the variable compri all the values of the key name in any of the sub-dictionaries in the dictionary tester. Do this using a list comprehension."
   ]
  },
  {
   "cell_type": "code",
   "execution_count": null,
   "metadata": {},
   "outputs": [],
   "source": [
    "\n",
    "tester = {'info': [{\"name\": \"Lauren\", 'class standing': 'Junior', 'major': \"Information Science\"},{'name': 'Ayo', 'class standing': \"Bachelor's\", 'major': 'Information Science'}, {'name': 'Kathryn', 'class standing': 'Senior', 'major': 'Sociology'}, {'name': 'Nick', 'class standing': 'Junior', 'major': 'Computer Science'}, {'name': 'Gladys', 'class standing': 'Sophomore', 'major': 'History'}, {'name': 'Adam', 'major': 'Violin Performance', 'class standing': 'Senior'}]}\n",
    "words  =tester[\"info\"]\n",
    "import json \n",
    "compri =[ word[\"name\"] for word in words]\n",
    "\n"
   ]
  },
  {
   "cell_type": "code",
   "execution_count": 13,
   "metadata": {},
   "outputs": [
    {
     "name": "stdout",
     "output_type": "stream",
     "text": [
      "[]\n"
     ]
    }
   ],
   "source": [
    "def longer_character(str1):\n",
    "    return [len(s) for s in str1 if len(s)>=4]\n",
    "print(longer_character(['as','ds','sd','fs','za']))\n"
   ]
  },
  {
   "cell_type": "markdown",
   "metadata": {},
   "source": [
    "2. The for loop below produces a list of numbers greater than 10. Below the given code, use list comprehension to accomplish the same thing. Assign it the the variable lst2. Only one line of code is needed."
   ]
  },
  {
   "cell_type": "code",
   "execution_count": null,
   "metadata": {},
   "outputs": [],
   "source": [
    "\n",
    "L = [12, 34, 21, 4, 6, 9, 42]\n",
    "lst = []\n",
    "for x in L:\n",
    "    if x > 10:\n",
    "        lst.append(x)\n",
    "\n",
    "lst2 = [s for s in L  if s>=10]  \n",
    "print(lst2)\n",
    "print(lst)\n",
    "\n"
   ]
  },
  {
   "cell_type": "code",
   "execution_count": null,
   "metadata": {},
   "outputs": [],
   "source": [
    "##Zip"
   ]
  },
  {
   "cell_type": "code",
   "execution_count": 15,
   "metadata": {},
   "outputs": [
    {
     "name": "stdout",
     "output_type": "stream",
     "text": [
      "[4, 6, 8]\n"
     ]
    }
   ],
   "source": [
    "L1 = [3, 4, 5]\n",
    "L2 = [1, 2, 3]\n",
    "L3 = []\n",
    "for i in range(len(L1)):\n",
    "    L3.append(L1[i] + L2[i])\n",
    "print(L3)"
   ]
  },
  {
   "cell_type": "code",
   "execution_count": 16,
   "metadata": {},
   "outputs": [
    {
     "name": "stdout",
     "output_type": "stream",
     "text": [
      "[(3, 1), (4, 2), (5, 3)]\n"
     ]
    }
   ],
   "source": [
    "L1 = [3, 4, 5]\n",
    "L2 = [1, 2, 3]\n",
    "L3 = list(zip(L1,L2))\n",
    "print(L3)"
   ]
  },
  {
   "cell_type": "code",
   "execution_count": 17,
   "metadata": {},
   "outputs": [
    {
     "name": "stdout",
     "output_type": "stream",
     "text": [
      "[4, 6, 8]\n"
     ]
    }
   ],
   "source": [
    "L1 = [3, 4, 5]\n",
    "L2 = [1, 2, 3]\n",
    "L3 = []\n",
    "L4 = list(zip(L1, L2))\n",
    "\n",
    "for (x1,x2) in L4:\n",
    "    L3.append(x1+x2)\n",
    "print(L3)    "
   ]
  },
  {
   "cell_type": "code",
   "execution_count": 19,
   "metadata": {},
   "outputs": [
    {
     "name": "stdout",
     "output_type": "stream",
     "text": [
      "[4, 6, 8]\n"
     ]
    }
   ],
   "source": [
    "L1 = [3, 4, 5]\n",
    "L2 = [1, 2, 3]\n",
    "L3 = [x1 + x2 for (x1, x2) in list(zip(L1, L2))]\n",
    "print(L3)\n"
   ]
  },
  {
   "cell_type": "code",
   "execution_count": 20,
   "metadata": {},
   "outputs": [
    {
     "name": "stdout",
     "output_type": "stream",
     "text": [
      "<map object at 0x0000018FD83CE2C8>\n"
     ]
    }
   ],
   "source": [
    "L1 = [3, 4, 5]\n",
    "L2 = [1, 2, 3]\n",
    "L3 = map(lambda x: x[0] + x[1], zip(L1, L2))\n",
    "print(L3)\n"
   ]
  },
  {
   "cell_type": "code",
   "execution_count": 21,
   "metadata": {},
   "outputs": [
    {
     "name": "stdout",
     "output_type": "stream",
     "text": [
      "True\n",
      "False\n"
     ]
    }
   ],
   "source": [
    "def possible(word, blanked, guesses_made):\n",
    "    if len(word) != len(blanked):\n",
    "        return False\n",
    "    for i in range(len(word)):\n",
    "        bc = blanked[i]\n",
    "        wc = word[i]\n",
    "        if bc == '_' and wc in guesses_made:\n",
    "            return False\n",
    "        elif bc != '_' and bc != wc:\n",
    "            return False\n",
    "    return True\n",
    "\n",
    "print(possible(\"wonderwall\", \"_on__r__ll\", \"otnqurl\"))\n",
    "print(possible(\"wonderwall\", \"_on__r__ll\", \"wotnqurl\"))\n",
    "\n"
   ]
  },
  {
   "cell_type": "code",
   "execution_count": 22,
   "metadata": {},
   "outputs": [
    {
     "name": "stdout",
     "output_type": "stream",
     "text": [
      "True\n",
      "False\n"
     ]
    }
   ],
   "source": [
    "def possible(word, blanked, guesses_made):\n",
    "    if len(word) != len(blanked):\n",
    "        return False\n",
    "    for (bc, wc) in zip(blanked, word):\n",
    "        if bc == '_' and wc in guesses_made:\n",
    "            return False\n",
    "        elif bc != '_' and bc != wc:\n",
    "            return False\n",
    "    return True\n",
    "\n",
    "print(possible(\"wonderwall\", \"_on__r__ll\", \"otnqurl\"))\n",
    "print(possible(\"wonderwall\", \"_on__r__ll\", \"wotnqurl\"))\n",
    "\n"
   ]
  },
  {
   "cell_type": "markdown",
   "metadata": {},
   "source": [
    "Write code to assign to the variable map_testing all the elements in lst_check while adding the string “Fruit: ” to the beginning of each element using mapping."
   ]
  },
  {
   "cell_type": "code",
   "execution_count": null,
   "metadata": {},
   "outputs": [],
   "source": [
    "lst_check = ['plums', 'watermelon', 'kiwi', 'strawberries', 'blueberries', 'peaches', 'apples', 'mangos', 'papaya']\n",
    "map_testing = map(lambda str: \"Fruit: \" + str, lst_check)\n"
   ]
  },
  {
   "cell_type": "code",
   "execution_count": null,
   "metadata": {},
   "outputs": [],
   "source": [
    "Below, we have provided a list of strings called countries. Use filter to produce a list called b_countries that only contains the strings from countries that begin with B."
   ]
  },
  {
   "cell_type": "code",
   "execution_count": null,
   "metadata": {},
   "outputs": [],
   "source": [
    "\n",
    "countries = ['Canada', 'Mexico', 'Brazil', 'Chile', 'Denmark', 'Botswana', 'Spain', 'Britain', 'Portugal', 'Russia', 'Thailand', 'Bangladesh', 'Nigeria', 'Argentina', 'Belarus', 'Laos', 'Australia', 'Panama', 'Egypt', 'Morocco', 'Switzerland', 'Belgium']\n",
    "b_countries = filter(lambda x:\"B\" in x , countries)\n"
   ]
  },
  {
   "cell_type": "markdown",
   "metadata": {},
   "source": [
    "Below, we have provided a list of tuples that contain the names of Game of Thrones characters. Using list comprehension, create a list of strings called first_names that contains only the first names of everyone in the original list."
   ]
  },
  {
   "cell_type": "code",
   "execution_count": null,
   "metadata": {},
   "outputs": [],
   "source": [
    "\n",
    "people = [('Snow', 'Jon'), ('Lannister', 'Cersei'), ('Stark', 'Arya'), ('Stark', 'Robb'), ('Lannister', 'Jamie'), ('Targaryen', 'Daenerys'), ('Stark', 'Sansa'), ('Tyrell', 'Margaery'), ('Stark', 'Eddard'), ('Lannister', 'Tyrion'), ('Baratheon', 'Joffrey'), ('Bolton', 'Ramsey'), ('Baelish', 'Peter')]\n",
    "first_names = [name[1] for name in people]\n",
    "print(first_names)"
   ]
  },
  {
   "cell_type": "markdown",
   "metadata": {},
   "source": [
    "Use list comprehension to create a list called lst2 that doubles each element in the list, lst.\n",
    "\n"
   ]
  },
  {
   "cell_type": "code",
   "execution_count": null,
   "metadata": {},
   "outputs": [],
   "source": [
    "\n",
    "lst = [[\"hi\", \"bye\"], \"hello\", \"goodbye\", [9, 2], 4]\n",
    "lst2 = [value * 2 for value in lst]\n",
    "\n"
   ]
  },
  {
   "cell_type": "markdown",
   "metadata": {},
   "source": [
    "Below, we have provided a list of tuples that contain students’ names and their final grades in PYTHON 101. Using list comprehension, create a new list passed that contains the names of students who passed the class (had a final grade of 70 or greater)."
   ]
  },
  {
   "cell_type": "code",
   "execution_count": null,
   "metadata": {},
   "outputs": [],
   "source": [
    "\n",
    "students = [('Tommy', 95), ('Linda', 63), ('Carl', 70), ('Bob', 100), ('Raymond', 50), ('Sue', 75)]\n",
    "passed = [name[0] for name in students if name[1] >= 70]\n",
    "print(passed)"
   ]
  },
  {
   "cell_type": "markdown",
   "metadata": {},
   "source": [
    "Write code using zip and filter so that these lists (l1 and l2) are combined into one big list and assigned to the variable opposites if they are both longer than 3 characters each."
   ]
  },
  {
   "cell_type": "code",
   "execution_count": null,
   "metadata": {},
   "outputs": [],
   "source": [
    "\n",
    "l1 = ['left', 'up', 'front']\n",
    "l2 = ['right', 'down', 'back']\n",
    "l3 = zip(l1, l2)\n",
    "opposites = list(filter(lambda s: len(s[0])>3 and len(s[1])>3, l3))\n"
   ]
  },
  {
   "cell_type": "markdown",
   "metadata": {},
   "source": [
    "Below, we have provided a species list and a population list. Use zip to combine these lists into one list of tuples called pop_info. From this list, create a new list called endangered that contains the names of species whose populations are below 2500."
   ]
  },
  {
   "cell_type": "code",
   "execution_count": null,
   "metadata": {},
   "outputs": [],
   "source": [
    "\n",
    "species = ['golden retriever', 'white tailed deer', 'black rhino', 'brown squirrel', 'field mouse', 'orangutan', 'sumatran elephant', 'rainbow trout', 'black bear', 'blue whale', 'water moccasin', 'giant panda', 'green turtle', 'blue jay', 'japanese beetle']\n",
    "\n",
    "population = [10000, 90000, 1000, 2000000, 500000, 500, 1200, 8000, 12000, 2300, 7500, 100, 1800, 9500, 125000]\n",
    "pop_info = list(zip(species, population))\n",
    "endangered = [x1 for (x1, x2) in pop_info if x2<2500]\n",
    "print(endangered)\n"
   ]
  },
  {
   "cell_type": "code",
   "execution_count": null,
   "metadata": {},
   "outputs": [],
   "source": [
    "def sumof(aNumber):\n",
    "    bNumber = 1\n",
    "    cNumber = 0\n",
    "    while bNumber <= aNumber:\n",
    "        cNumber = cNumber + 1\n",
    "        bNumber = bNumber + bNumber\n",
    "    return bNumber\n",
    "aNumber = int(input())\n",
    "print(sumof(aNumber))\n",
    "print(sumof(5))"
   ]
  },
  {
   "cell_type": "code",
   "execution_count": null,
   "metadata": {},
   "outputs": [],
   "source": [
    "def sumTo(aBound):\n",
    "    \"\"\" Return the sum of 1+2+3 ... n \"\"\"\n",
    "\n",
    "    theSum  = 0\n",
    "    aNumber = 1\n",
    "    while aNumber <= aBound:\n",
    "        theSum = theSum + aNumber\n",
    "        aNumber = aNumber + 1\n",
    "    return theSum\n",
    "\n",
    "print(sumTo(4))\n",
    "\n",
    "print(sumTo(1000))\n"
   ]
  },
  {
   "cell_type": "markdown",
   "metadata": {},
   "source": [
    "Write a while loop that is initialized at 0 and stops at 15. If the counter is an even number, append the counter to a list called eve_nums."
   ]
  },
  {
   "cell_type": "code",
   "execution_count": null,
   "metadata": {},
   "outputs": [],
   "source": [
    "counts = 0\n",
    "eve_nums = []\n",
    "while counts <= 15:\n",
    "    if counts%2 == 0:\n",
    "        eve_nums.append(counts)\n",
    "    counts = counts + 1"
   ]
  },
  {
   "cell_type": "markdown",
   "metadata": {},
   "source": [
    "Below, we’ve provided a for loop that sums all the elements of list1. Write code that accomplishes the same task, but instead uses a while loop. Assign the accumulator variable to the name accum."
   ]
  },
  {
   "cell_type": "code",
   "execution_count": null,
   "metadata": {},
   "outputs": [],
   "source": [
    "\n",
    "list1 = [8, 3, 4, 5, 6, 7, 9]\n",
    "\n",
    "tot = 0\n",
    "for elem in list1:\n",
    "    tot = tot + elem\n",
    "accum = 0\n",
    "idx = 0\n",
    "while idx < len(list1):\n",
    "    accum = accum + list1[idx]\n",
    "    idx = idx + 1\n"
   ]
  },
  {
   "cell_type": "code",
   "execution_count": 1,
   "metadata": {},
   "outputs": [
    {
     "name": "stdout",
     "output_type": "stream",
     "text": [
      "next number to add up (enter 0 if no more numbers): 2\n",
      "next number to add up (enter 0 if no more numbers): 2\n",
      "next number to add up (enter 0 if no more numbers): 3\n",
      "next number to add up (enter 0 if no more numbers): 4\n",
      "next number to add up (enter 0 if no more numbers): 5\n",
      "next number to add up (enter 0 if no more numbers): 6\n",
      "next number to add up (enter 0 if no more numbers): 0\n",
      "22\n"
     ]
    }
   ],
   "source": [
    "theSum = 0\n",
    "x = -1\n",
    "while (x != 0):\n",
    "    x = int(input(\"next number to add up (enter 0 if no more numbers): \"))\n",
    "    theSum = theSum + x\n",
    "\n",
    "print(theSum)\n"
   ]
  },
  {
   "cell_type": "code",
   "execution_count": 4,
   "metadata": {},
   "outputs": [
    {
     "name": "stdout",
     "output_type": "stream",
     "text": [
      "Enter the number :1\n",
      "Enter the number :2\n",
      "Enter the number :3\n",
      "Enter the number :4\n",
      "Enter the number :0\n",
      "10\n"
     ]
    }
   ],
   "source": [
    "n= 0\n",
    "x = -1\n",
    "while x != 0:\n",
    "        x = int(input(\"Enter the number :\"))\n",
    "        n = n + x\n",
    "print(n)        \n",
    "        \n",
    "    \n",
    "    "
   ]
  },
  {
   "cell_type": "code",
   "execution_count": 5,
   "metadata": {},
   "outputs": [
    {
     "name": "stdout",
     "output_type": "stream",
     "text": [
      "Enter price of item (0 when done): 1\n",
      "Subtotal: $ 1.0\n",
      "Enter price of item (0 when done): 2\n",
      "Subtotal: $ 3.0\n",
      "Enter price of item (0 when done): 3\n",
      "Subtotal: $ 6.0\n",
      "Enter price of item (0 when done): 4\n",
      "Subtotal: $ 10.0\n",
      "Enter price of item (0 when done): 0\n",
      "Total items: 4\n",
      "Total $ 10.0\n",
      "Average price per item: $ 2.5\n"
     ]
    }
   ],
   "source": [
    "def checkout():\n",
    "    total = 0\n",
    "    count = 0\n",
    "    moreItems = True\n",
    "    while moreItems:\n",
    "        price = float(input('Enter price of item (0 when done): '))\n",
    "        if price != 0:\n",
    "            count = count + 1\n",
    "            total = total + price\n",
    "            print('Subtotal: $', total)\n",
    "        else:\n",
    "            moreItems = False\n",
    "    average = total / count\n",
    "    print('Total items:', count)\n",
    "    print('Total $', total)\n",
    "    print('Average price per item: $', average)\n",
    "\n",
    "checkout()\n"
   ]
  },
  {
   "cell_type": "code",
   "execution_count": 6,
   "metadata": {},
   "outputs": [
    {
     "name": "stdout",
     "output_type": "stream",
     "text": [
      "Do you like lima beans? Y)es or N)o: 1\n",
      "Please enter Y for yes or N for no.\n",
      "Do you like lima beans? Y)es or N)o: 2\n",
      "Please enter Y for yes or N for no.\n",
      "Do you like lima beans? Y)es or N)o: 3\n",
      "Please enter Y for yes or N for no.\n",
      "Do you like lima beans? Y)es or N)o: 4\n",
      "Please enter Y for yes or N for no.\n",
      "Do you like lima beans? Y)es or N)o: 5\n",
      "Please enter Y for yes or N for no.\n",
      "Do you like lima beans? Y)es or N)o: 0\n",
      "Please enter Y for yes or N for no.\n",
      "Do you like lima beans? Y)es or N)o: 1\n",
      "Please enter Y for yes or N for no.\n",
      "Do you like lima beans? Y)es or N)o: 2\n",
      "Please enter Y for yes or N for no.\n",
      "Do you like lima beans? Y)es or N)o: 2\n",
      "Please enter Y for yes or N for no.\n",
      "Do you like lima beans? Y)es or N)o: 3\n",
      "Please enter Y for yes or N for no.\n",
      "Do you like lima beans? Y)es or N)o: 0\n",
      "Please enter Y for yes or N for no.\n",
      "Do you like lima beans? Y)es or N)o: \n",
      "Please enter Y for yes or N for no.\n",
      "Do you like lima beans? Y)es or N)o: n\n",
      "Too bad. If cooked right, they are quite tasty.\n"
     ]
    }
   ],
   "source": [
    "def get_yes_or_no(message):\n",
    "    valid_input = False\n",
    "    while not valid_input:\n",
    "        answer = input(message)\n",
    "        answer = answer.upper() # convert to upper case\n",
    "        if answer == 'Y' or answer == 'N':\n",
    "            valid_input = True\n",
    "        else:\n",
    "            print('Please enter Y for yes or N for no.')\n",
    "    return answer\n",
    "\n",
    "response = get_yes_or_no('Do you like lima beans? Y)es or N)o: ')\n",
    "if response == 'Y':\n",
    "    print('Great! They are very healthy.')\n",
    "else:\n",
    "    print('Too bad. If cooked right, they are quite tasty.')\n"
   ]
  },
  {
   "cell_type": "code",
   "execution_count": 7,
   "metadata": {},
   "outputs": [],
   "source": [
    "import random\n",
    "import turtle\n",
    "\n",
    "\n",
    "def isInScreen(w, t):\n",
    "    if random.random() > 0.1:\n",
    "        return True\n",
    "    else:\n",
    "        return False\n",
    "\n",
    "\n",
    "t = turtle.Turtle()\n",
    "wn = turtle.Screen()\n",
    "\n",
    "t.shape('turtle')\n",
    "while isInScreen(wn, t):\n",
    "    coin = random.randrange(0, 2)\n",
    "    if coin == 0:              # heads\n",
    "        t.left(90)\n",
    "    else:                      # tails\n",
    "        t.right(90)\n",
    "\n",
    "    t.forward(50)\n",
    "\n",
    "wn.exitonclick()\n"
   ]
  },
  {
   "cell_type": "code",
   "execution_count": 8,
   "metadata": {},
   "outputs": [
    {
     "ename": "Terminator",
     "evalue": "",
     "output_type": "error",
     "traceback": [
      "\u001b[1;31m---------------------------------------------------------------------------\u001b[0m",
      "\u001b[1;31mTerminator\u001b[0m                                Traceback (most recent call last)",
      "\u001b[1;32m<ipython-input-8-7905532be99f>\u001b[0m in \u001b[0;36m<module>\u001b[1;34m\u001b[0m\n\u001b[0;32m     19\u001b[0m     \u001b[1;32mreturn\u001b[0m \u001b[0mstillIn\u001b[0m\u001b[1;33m\u001b[0m\u001b[1;33m\u001b[0m\u001b[0m\n\u001b[0;32m     20\u001b[0m \u001b[1;33m\u001b[0m\u001b[0m\n\u001b[1;32m---> 21\u001b[1;33m \u001b[0mt\u001b[0m \u001b[1;33m=\u001b[0m \u001b[0mturtle\u001b[0m\u001b[1;33m.\u001b[0m\u001b[0mTurtle\u001b[0m\u001b[1;33m(\u001b[0m\u001b[1;33m)\u001b[0m\u001b[1;33m\u001b[0m\u001b[1;33m\u001b[0m\u001b[0m\n\u001b[0m\u001b[0;32m     22\u001b[0m \u001b[0mwn\u001b[0m \u001b[1;33m=\u001b[0m \u001b[0mturtle\u001b[0m\u001b[1;33m.\u001b[0m\u001b[0mScreen\u001b[0m\u001b[1;33m(\u001b[0m\u001b[1;33m)\u001b[0m\u001b[1;33m\u001b[0m\u001b[1;33m\u001b[0m\u001b[0m\n\u001b[0;32m     23\u001b[0m \u001b[1;33m\u001b[0m\u001b[0m\n",
      "\u001b[1;32m~\\anaconda3\\lib\\turtle.py\u001b[0m in \u001b[0;36m__init__\u001b[1;34m(self, shape, undobuffersize, visible)\u001b[0m\n\u001b[0;32m   3814\u001b[0m                            \u001b[0mshape\u001b[0m\u001b[1;33m=\u001b[0m\u001b[0mshape\u001b[0m\u001b[1;33m,\u001b[0m\u001b[1;33m\u001b[0m\u001b[1;33m\u001b[0m\u001b[0m\n\u001b[0;32m   3815\u001b[0m                            \u001b[0mundobuffersize\u001b[0m\u001b[1;33m=\u001b[0m\u001b[0mundobuffersize\u001b[0m\u001b[1;33m,\u001b[0m\u001b[1;33m\u001b[0m\u001b[1;33m\u001b[0m\u001b[0m\n\u001b[1;32m-> 3816\u001b[1;33m                            visible=visible)\n\u001b[0m\u001b[0;32m   3817\u001b[0m \u001b[1;33m\u001b[0m\u001b[0m\n\u001b[0;32m   3818\u001b[0m \u001b[0mPen\u001b[0m \u001b[1;33m=\u001b[0m \u001b[0mTurtle\u001b[0m\u001b[1;33m\u001b[0m\u001b[1;33m\u001b[0m\u001b[0m\n",
      "\u001b[1;32m~\\anaconda3\\lib\\turtle.py\u001b[0m in \u001b[0;36m__init__\u001b[1;34m(self, canvas, shape, undobuffersize, visible)\u001b[0m\n\u001b[0;32m   2555\u001b[0m         \u001b[0mself\u001b[0m\u001b[1;33m.\u001b[0m\u001b[0m_undobuffersize\u001b[0m \u001b[1;33m=\u001b[0m \u001b[0mundobuffersize\u001b[0m\u001b[1;33m\u001b[0m\u001b[1;33m\u001b[0m\u001b[0m\n\u001b[0;32m   2556\u001b[0m         \u001b[0mself\u001b[0m\u001b[1;33m.\u001b[0m\u001b[0mundobuffer\u001b[0m \u001b[1;33m=\u001b[0m \u001b[0mTbuffer\u001b[0m\u001b[1;33m(\u001b[0m\u001b[0mundobuffersize\u001b[0m\u001b[1;33m)\u001b[0m\u001b[1;33m\u001b[0m\u001b[1;33m\u001b[0m\u001b[0m\n\u001b[1;32m-> 2557\u001b[1;33m         \u001b[0mself\u001b[0m\u001b[1;33m.\u001b[0m\u001b[0m_update\u001b[0m\u001b[1;33m(\u001b[0m\u001b[1;33m)\u001b[0m\u001b[1;33m\u001b[0m\u001b[1;33m\u001b[0m\u001b[0m\n\u001b[0m\u001b[0;32m   2558\u001b[0m \u001b[1;33m\u001b[0m\u001b[0m\n\u001b[0;32m   2559\u001b[0m     \u001b[1;32mdef\u001b[0m \u001b[0mreset\u001b[0m\u001b[1;33m(\u001b[0m\u001b[0mself\u001b[0m\u001b[1;33m)\u001b[0m\u001b[1;33m:\u001b[0m\u001b[1;33m\u001b[0m\u001b[1;33m\u001b[0m\u001b[0m\n",
      "\u001b[1;32m~\\anaconda3\\lib\\turtle.py\u001b[0m in \u001b[0;36m_update\u001b[1;34m(self)\u001b[0m\n\u001b[0;32m   2658\u001b[0m             \u001b[1;32mreturn\u001b[0m\u001b[1;33m\u001b[0m\u001b[1;33m\u001b[0m\u001b[0m\n\u001b[0;32m   2659\u001b[0m         \u001b[1;32melif\u001b[0m \u001b[0mscreen\u001b[0m\u001b[1;33m.\u001b[0m\u001b[0m_tracing\u001b[0m \u001b[1;33m==\u001b[0m \u001b[1;36m1\u001b[0m\u001b[1;33m:\u001b[0m\u001b[1;33m\u001b[0m\u001b[1;33m\u001b[0m\u001b[0m\n\u001b[1;32m-> 2660\u001b[1;33m             \u001b[0mself\u001b[0m\u001b[1;33m.\u001b[0m\u001b[0m_update_data\u001b[0m\u001b[1;33m(\u001b[0m\u001b[1;33m)\u001b[0m\u001b[1;33m\u001b[0m\u001b[1;33m\u001b[0m\u001b[0m\n\u001b[0m\u001b[0;32m   2661\u001b[0m             \u001b[0mself\u001b[0m\u001b[1;33m.\u001b[0m\u001b[0m_drawturtle\u001b[0m\u001b[1;33m(\u001b[0m\u001b[1;33m)\u001b[0m\u001b[1;33m\u001b[0m\u001b[1;33m\u001b[0m\u001b[0m\n\u001b[0;32m   2662\u001b[0m             \u001b[0mscreen\u001b[0m\u001b[1;33m.\u001b[0m\u001b[0m_update\u001b[0m\u001b[1;33m(\u001b[0m\u001b[1;33m)\u001b[0m                  \u001b[1;31m# TurtleScreenBase\u001b[0m\u001b[1;33m\u001b[0m\u001b[1;33m\u001b[0m\u001b[0m\n",
      "\u001b[1;32m~\\anaconda3\\lib\\turtle.py\u001b[0m in \u001b[0;36m_update_data\u001b[1;34m(self)\u001b[0m\n\u001b[0;32m   2644\u001b[0m \u001b[1;33m\u001b[0m\u001b[0m\n\u001b[0;32m   2645\u001b[0m     \u001b[1;32mdef\u001b[0m \u001b[0m_update_data\u001b[0m\u001b[1;33m(\u001b[0m\u001b[0mself\u001b[0m\u001b[1;33m)\u001b[0m\u001b[1;33m:\u001b[0m\u001b[1;33m\u001b[0m\u001b[1;33m\u001b[0m\u001b[0m\n\u001b[1;32m-> 2646\u001b[1;33m         \u001b[0mself\u001b[0m\u001b[1;33m.\u001b[0m\u001b[0mscreen\u001b[0m\u001b[1;33m.\u001b[0m\u001b[0m_incrementudc\u001b[0m\u001b[1;33m(\u001b[0m\u001b[1;33m)\u001b[0m\u001b[1;33m\u001b[0m\u001b[1;33m\u001b[0m\u001b[0m\n\u001b[0m\u001b[0;32m   2647\u001b[0m         \u001b[1;32mif\u001b[0m \u001b[0mself\u001b[0m\u001b[1;33m.\u001b[0m\u001b[0mscreen\u001b[0m\u001b[1;33m.\u001b[0m\u001b[0m_updatecounter\u001b[0m \u001b[1;33m!=\u001b[0m \u001b[1;36m0\u001b[0m\u001b[1;33m:\u001b[0m\u001b[1;33m\u001b[0m\u001b[1;33m\u001b[0m\u001b[0m\n\u001b[0;32m   2648\u001b[0m             \u001b[1;32mreturn\u001b[0m\u001b[1;33m\u001b[0m\u001b[1;33m\u001b[0m\u001b[0m\n",
      "\u001b[1;32m~\\anaconda3\\lib\\turtle.py\u001b[0m in \u001b[0;36m_incrementudc\u001b[1;34m(self)\u001b[0m\n\u001b[0;32m   1290\u001b[0m         \u001b[1;32mif\u001b[0m \u001b[1;32mnot\u001b[0m \u001b[0mTurtleScreen\u001b[0m\u001b[1;33m.\u001b[0m\u001b[0m_RUNNING\u001b[0m\u001b[1;33m:\u001b[0m\u001b[1;33m\u001b[0m\u001b[1;33m\u001b[0m\u001b[0m\n\u001b[0;32m   1291\u001b[0m             \u001b[0mTurtleScreen\u001b[0m\u001b[1;33m.\u001b[0m\u001b[0m_RUNNING\u001b[0m \u001b[1;33m=\u001b[0m \u001b[1;32mTrue\u001b[0m\u001b[1;33m\u001b[0m\u001b[1;33m\u001b[0m\u001b[0m\n\u001b[1;32m-> 1292\u001b[1;33m             \u001b[1;32mraise\u001b[0m \u001b[0mTerminator\u001b[0m\u001b[1;33m\u001b[0m\u001b[1;33m\u001b[0m\u001b[0m\n\u001b[0m\u001b[0;32m   1293\u001b[0m         \u001b[1;32mif\u001b[0m \u001b[0mself\u001b[0m\u001b[1;33m.\u001b[0m\u001b[0m_tracing\u001b[0m \u001b[1;33m>\u001b[0m \u001b[1;36m0\u001b[0m\u001b[1;33m:\u001b[0m\u001b[1;33m\u001b[0m\u001b[1;33m\u001b[0m\u001b[0m\n\u001b[0;32m   1294\u001b[0m             \u001b[0mself\u001b[0m\u001b[1;33m.\u001b[0m\u001b[0m_updatecounter\u001b[0m \u001b[1;33m+=\u001b[0m \u001b[1;36m1\u001b[0m\u001b[1;33m\u001b[0m\u001b[1;33m\u001b[0m\u001b[0m\n",
      "\u001b[1;31mTerminator\u001b[0m: "
     ]
    }
   ],
   "source": [
    "import random\n",
    "import turtle\n",
    "\n",
    "def isInScreen(w,t):\n",
    "    leftBound = - w.window_width() / 2\n",
    "    rightBound = w.window_width() / 2\n",
    "    topBound = w.window_height() / 2\n",
    "    bottomBound = -w.window_height() / 2\n",
    "\n",
    "    turtleX = t.xcor()\n",
    "    turtleY = t.ycor()\n",
    "\n",
    "    stillIn = True\n",
    "    if turtleX > rightBound or turtleX < leftBound:\n",
    "        stillIn = False\n",
    "    if turtleY > topBound or turtleY < bottomBound:\n",
    "        stillIn = False\n",
    "\n",
    "    return stillIn\n",
    "\n",
    "t = turtle.Turtle()\n",
    "wn = turtle.Screen()\n",
    "\n",
    "t.shape('turtle')\n",
    "while isInScreen(wn,t):\n",
    "    coin = random.randrange(0, 2)\n",
    "    if coin == 0:\n",
    "        t.left(90)\n",
    "    else:\n",
    "        t.right(90)\n",
    "\n",
    "    t.forward(50)\n",
    "\n",
    "wn.exitonclick()\n"
   ]
  },
  {
   "cell_type": "code",
   "execution_count": 9,
   "metadata": {},
   "outputs": [
    {
     "name": "stdout",
     "output_type": "stream",
     "text": [
      "we are amzing\n",
      "out of the loop\n"
     ]
    }
   ],
   "source": [
    "while True:\n",
    "    print(\"we are amzing\")\n",
    "    break\n",
    "    print(\"nannana\")\n",
    "print(\"out of the loop\")"
   ]
  },
  {
   "cell_type": "code",
   "execution_count": 10,
   "metadata": {},
   "outputs": [
    {
     "name": "stdout",
     "output_type": "stream",
     "text": [
      "this phrase will always print\n",
      "We are done with the while loop.\n"
     ]
    }
   ],
   "source": [
    "while True:\n",
    "    print(\"this phrase will always print\")\n",
    "    break\n",
    "    print(\"Does this phrase print?\")\n",
    "\n",
    "print(\"We are done with the while loop.\")\n"
   ]
  },
  {
   "cell_type": "code",
   "execution_count": null,
   "metadata": {},
   "outputs": [],
   "source": []
  },
  {
   "cell_type": "code",
   "execution_count": 5,
   "metadata": {},
   "outputs": [
    {
     "name": "stdout",
     "output_type": "stream",
     "text": [
      "we are increasing x\n",
      "we are increasing x\n",
      "we are increasing x\n",
      "we are increasing x\n",
      "we are increasing x\n",
      "hell0\n"
     ]
    }
   ],
   "source": [
    "x = 0\n",
    "while (x < 10):\n",
    "    print(\"we are increasing x\")\n",
    "    if x % 2 == 0:\n",
    "        x = x+2\n",
    "        continue\n",
    "    if x % 3 == 0:\n",
    "        x = x+3\n",
    "    x = x + 1\n",
    "print(\"hell0\")    \n",
    "        "
   ]
  },
  {
   "cell_type": "code",
   "execution_count": 8,
   "metadata": {},
   "outputs": [
    {
     "name": "stdout",
     "output_type": "stream",
     "text": [
      "Bugs\n",
      "12\n"
     ]
    }
   ],
   "source": [
    "x = 7\n",
    "while x<10:\n",
    "    b = 2\n",
    "    print(\"Bugs\")\n",
    "    \n",
    "    x = x + 5\n",
    "    print(x)"
   ]
  },
  {
   "cell_type": "markdown",
   "metadata": {},
   "source": [
    "Write a function, sublist, that takes in a list of numbers as the parameter. In the function, use a while loop to return a sublist of the input list. The sublist should contain the same values of the original list up until it reaches the number 5 (it should not contain the number 5)."
   ]
  },
  {
   "cell_type": "code",
   "execution_count": null,
   "metadata": {},
   "outputs": [],
   "source": [
    "def sublist(x):\n",
    "    sub = []\n",
    "    x = (num for num in x) \n",
    "    num = next(x, 5)  \n",
    "    while num != 5:\n",
    "        sub.append(num)\n",
    "        num = next(x, 5)  \n",
    "    return sub\n",
    "\n",
    "x = [1, 3, 4, 5, 6, 7, 3]\n",
    "print(sublist(x))\n"
   ]
  },
  {
   "cell_type": "markdown",
   "metadata": {},
   "source": [
    "Write a function called check_nums that takes a list as its parameter, and contains a while loop that only stops once the element of the list is the number 7. What is returned is a list of all of the numbers up until it reaches 7."
   ]
  },
  {
   "cell_type": "code",
   "execution_count": null,
   "metadata": {},
   "outputs": [],
   "source": [
    "def check_nums(x):\n",
    "    nums = []\n",
    "    val = (num for num in x)\n",
    "    num = next(val,7)\n",
    "    while num != 7:\n",
    "        nums.append(num)\n",
    "        num = next(val,7)\n",
    "    return nums\n",
    "x = [1,2,3,4]\n",
    "print(check_nums(x))\n"
   ]
  },
  {
   "cell_type": "markdown",
   "metadata": {},
   "source": [
    "Write a function, sublist, that takes in a list of strings as the parameter. In the function, use a while loop to return a sublist of the input list. The sublist should contain the same values of the original list up until it reaches the string “STOP” (it should not contain the string “STOP”)."
   ]
  },
  {
   "cell_type": "code",
   "execution_count": null,
   "metadata": {},
   "outputs": [],
   "source": [
    "def sublist(list):\n",
    "   i = 0\n",
    "   while i < len(list):\n",
    "\n",
    "       if (list[i] in 'STOP'):\n",
    "           return list[0:i]\n",
    "       i+=1\n",
    "   return list[0:i]\n",
    "print(sublist(['mujju','salman','yo','STOP']))\n"
   ]
  },
  {
   "cell_type": "markdown",
   "metadata": {},
   "source": [
    "Write a function called stop_at_z that iterates through a list of strings. Using a while loop, append each string to a new list until the string that appears is “z”. The function should return the new list."
   ]
  },
  {
   "cell_type": "code",
   "execution_count": null,
   "metadata": {},
   "outputs": [],
   "source": [
    "def stop_at_z(list):\n",
    "   i = 0\n",
    "   while i < len(list):\n",
    "\n",
    "       if (list[i] == 'z'):\n",
    "           return list[0:i]\n",
    "       i+=1\n",
    "   return list[0:i]\n",
    "print(stop_at_z(['a','b','c','z']))\n"
   ]
  },
  {
   "cell_type": "markdown",
   "metadata": {},
   "source": [
    "Below is a for loop that works. Underneath the for loop, rewrite the problem so that it does the same thing, but using a while loop instead of a for loop. Assign the accumulated total in the while loop code to the variable sum2. Once complete, sum2 should equal sum1."
   ]
  },
  {
   "cell_type": "code",
   "execution_count": null,
   "metadata": {},
   "outputs": [],
   "source": [
    "sum1 = 0\n",
    "sum2 = 0\n",
    "i = 0\n",
    "lst = [65, 78, 21, 33]\n",
    "\n",
    "for x in lst:\n",
    "    sum1 = sum1 + x\n",
    "print(sum1)\n",
    "while i < len(lst):\n",
    "\n",
    "    sum2 += lst[i]\n",
    "    i = i + 1\n",
    "    \n",
    "print(sum2)\n",
    "\n"
   ]
  },
  {
   "cell_type": "markdown",
   "metadata": {},
   "source": [
    "Challenge: Write a function called beginning that takes a list as input and contains a while loop that only stops once the element of the list is the string ‘bye’. What is returned is a list that contains up to the first 10 strings, regardless of where the loop stops. (i.e., if it stops on the 32nd element, the first 10 are returned. If “bye” is the 5th element, the first 4 are returned.) If you want to make this even more of a challenge, do this without slicing"
   ]
  },
  {
   "cell_type": "code",
   "execution_count": null,
   "metadata": {},
   "outputs": [],
   "source": [
    "lst = [65, 78, 21, 33]\n",
    "sum2 = 0\n",
    "i =0\n",
    "while i < len(lst):\n",
    "\n",
    "    sum2 += lst[i]\n",
    "    i = i + 1\n",
    "    \n",
    "print(sum2)"
   ]
  },
  {
   "cell_type": "code",
   "execution_count": 12,
   "metadata": {},
   "outputs": [
    {
     "name": "stdout",
     "output_type": "stream",
     "text": [
      "[1]\n",
      "[1, 2]\n",
      "[1, 2, 3]\n",
      "['hello', 4]\n",
      "['hello', 8]\n"
     ]
    }
   ],
   "source": [
    "def f(a,l=[]):\n",
    "    l.append(a)\n",
    "    return l\n",
    "print(f(1)) \n",
    "print(f(2))\n",
    "print(f(3))\n",
    "print(f(4,[\"hello\"]))\n",
    "print(f(8,[\"hello\"]))"
   ]
  },
  {
   "cell_type": "code",
   "execution_count": 13,
   "metadata": {},
   "outputs": [
    {
     "name": "stdout",
     "output_type": "stream",
     "text": [
      "100\n",
      "100\n",
      "64\n"
     ]
    }
   ],
   "source": [
    "print(int(\"100\"))\n",
    "print(int(\"100\",10))\n",
    "print(int(\"100\",8))"
   ]
  },
  {
   "cell_type": "code",
   "execution_count": 23,
   "metadata": {},
   "outputs": [
    {
     "name": "stdout",
     "output_type": "stream",
     "text": [
      "x,y,z are:1,1,8\n",
      "None\n",
      "x,y,z are:5,1,10\n",
      "None\n"
     ]
    }
   ],
   "source": [
    "initial = 8\n",
    "def f(x = 0 , y = 1 , z = initial):\n",
    "    print(\"x,y,z are:\"+str(x)+\",\"+str(y)+\",\"+str(z))\n",
    "print(f(1))\n",
    "print(f(x = 5,z = 10))\n",
    "print(f(x = ))"
   ]
  },
  {
   "cell_type": "code",
   "execution_count": 21,
   "metadata": {},
   "outputs": [
    {
     "name": "stdout",
     "output_type": "stream",
     "text": [
      "16\n",
      "3\n",
      "20\n"
     ]
    }
   ],
   "source": [
    "def f(x=0,y=1):\n",
    "    return x*y\n",
    "print(f(16))\n",
    "print(f(1,y = 3))\n",
    "print(f(y = 10,x = 2))"
   ]
  },
  {
   "cell_type": "code",
   "execution_count": 24,
   "metadata": {},
   "outputs": [
    {
     "name": "stdout",
     "output_type": "stream",
     "text": [
      "The scores Jack got were: 67,89,91.\n",
      "The scores Emily got were: 72,95,42.\n",
      "The scores Taylor got were: 83,92,86.\n"
     ]
    }
   ],
   "source": [
    "names_scores = [(\"Jack\",[67,89,91]),(\"Emily\",[72,95,42]),(\"Taylor\",[83,92,86])]\n",
    "for name, scores in names_scores:\n",
    "    print(\"The scores {nm} got were: {s1},{s2},{s3}.\".format(nm=name,s1=scores[0],s2=scores[1],s3=scores[2]))\n"
   ]
  },
  {
   "cell_type": "code",
   "execution_count": 33,
   "metadata": {},
   "outputs": [
    {
     "name": "stdout",
     "output_type": "stream",
     "text": [
      "'Jack!' she yelled. 'Jack! Jack, say hello!'\n",
      "'Jill!' she yelled. 'Jill! Jill, say hello!'\n",
      "'Mary!' she yelled. 'Mary! Mary, say hello!'\n",
      "'Jack!' she yelled. 'Jack! Jack, say hello!'\n",
      "'Jill!' she yelled. 'Jill! Jill, say hello!'\n",
      "'Mary!' she yelled. 'Mary! Mary, say hello!'\n"
     ]
    }
   ],
   "source": [
    "# this works\n",
    "names = [\"Jack\",\"Jill\",\"Mary\"]\n",
    "for n in names:\n",
    "    print(\"'{}!' she yelled. '{}! {}, {}!'\".format(n,n,n,\"say hello\"))\n",
    "\n",
    "# but this also works!\n",
    "names = [\"Jack\",\"Jill\",\"Mary\"]\n",
    "for n in names:\n",
    "    print(\"'{0}!' she yelled. '{0}! {0}, {1}!'\".format(n,\"say hello\"))\n"
   ]
  },
  {
   "cell_type": "code",
   "execution_count": 32,
   "metadata": {},
   "outputs": [
    {
     "name": "stdout",
     "output_type": "stream",
     "text": [
      "name Ram and numbers is 23\n",
      "name Sita and numbers is 34\n"
     ]
    }
   ],
   "source": [
    "names = [(\"Ram\",[22,23,43,434]),(\"Sita\",[12,34,567])]\n",
    "for name , num in names:\n",
    "    print(\"name {nm} and numbers is {se}\".format(nm = name,se=num[1]))"
   ]
  },
  {
   "cell_type": "code",
   "execution_count": 38,
   "metadata": {},
   "outputs": [
    {
     "name": "stdout",
     "output_type": "stream",
     "text": [
      "My name is ram say hello\n",
      "My name is sita say hello\n",
      "My name is laxman say hello\n"
     ]
    }
   ],
   "source": [
    "name = [\"ram\",\"sita\",\"laxman\"]\n",
    "for i in name:\n",
    "    print(\"My name is {0} {1}\".format(i, \"say hello\"))"
   ]
  },
  {
   "cell_type": "code",
   "execution_count": null,
   "metadata": {},
   "outputs": [],
   "source": [
    "initial = 7\n",
    "def f(x, y = 3, z = initial):\n",
    "    print(\"x, y, z are:\", x, y, z)\n",
    "\n",
    "f(2, 5)\n"
   ]
  },
  {
   "cell_type": "code",
   "execution_count": null,
   "metadata": {},
   "outputs": [],
   "source": [
    "initial = 7\n",
    "def f(x, y = 3, z = initial):\n",
    "    print(\"x, y, z are:\", x, y, z)\n",
    "\n",
    "f(2, z = 10)\n"
   ]
  },
  {
   "cell_type": "code",
   "execution_count": null,
   "metadata": {},
   "outputs": [],
   "source": [
    "initial = 7\n",
    "def f(x, y = 3, z = initial):\n",
    "    print(\"x, y, z are:\", x, y, z)\n",
    "\n",
    "f(2, x=5)\n"
   ]
  },
  {
   "cell_type": "code",
   "execution_count": null,
   "metadata": {},
   "outputs": [],
   "source": [
    "initial = 7\n",
    "def f(x, y = 3, z = initial):\n",
    "    print (\"x, y, z are:\", x, y, z)\n",
    "initial = 0\n",
    "f(2)\n"
   ]
  },
  {
   "cell_type": "code",
   "execution_count": null,
   "metadata": {},
   "outputs": [],
   "source": [
    "names = [\"Alexey\", \"Catalina\", \"Misuki\", \"Pablo\"]\n",
    "print(\"'{first}!' she yelled. 'Come here, {first}! {f_one}, {f_two}, and {f_three} are here!'\".format(first = names[1], f_one = names[0], f_two = names[2], f_three = names[3]))\n"
   ]
  },
  {
   "cell_type": "code",
   "execution_count": 41,
   "metadata": {},
   "outputs": [
    {
     "name": "stdout",
     "output_type": "stream",
     "text": [
      "hellohellohello\n"
     ]
    }
   ],
   "source": [
    "print(\"hello\"*3)"
   ]
  },
  {
   "cell_type": "code",
   "execution_count": 42,
   "metadata": {},
   "outputs": [
    {
     "name": "stdout",
     "output_type": "stream",
     "text": [
      "<function f at 0x0000020E47DA90D8>\n",
      "<class 'function'>\n",
      "2\n",
      "<function <lambda> at 0x0000020E47DA9CA8>\n",
      "<class 'function'>\n",
      "4\n"
     ]
    }
   ],
   "source": [
    "def f(x):\n",
    "    return x - 1\n",
    "\n",
    "print(f)\n",
    "print(type(f))\n",
    "print(f(3))\n",
    "\n",
    "print(lambda x: x-2)\n",
    "print(type(lambda x: x-2))\n",
    "print((lambda x: x-2)(6))\n"
   ]
  },
  {
   "cell_type": "code",
   "execution_count": 45,
   "metadata": {},
   "outputs": [
    {
     "name": "stdout",
     "output_type": "stream",
     "text": [
      "1\n"
     ]
    }
   ],
   "source": [
    "\n",
    "f = lambda x: x-1\n",
    "print(f(2))"
   ]
  },
  {
   "cell_type": "markdown",
   "metadata": {},
   "source": [
    "Create a function called mult that has two parameters, the first is required and should be an integer, the second is an optional parameter that can either be a number or a string but whose default is 6. The function should return the first parameter multiplied by the second.\n",
    "\n"
   ]
  },
  {
   "cell_type": "code",
   "execution_count": null,
   "metadata": {},
   "outputs": [],
   "source": [
    "def mult(x,y = 6):\n",
    "    return x*y\n",
    "print(mult(6))\n",
    "    \n"
   ]
  },
  {
   "cell_type": "markdown",
   "metadata": {},
   "source": [
    "The following function, greeting, does not work. Please fix the code so that it runs without error. This only requires one change in the definition of the function.\n",
    "\n"
   ]
  },
  {
   "cell_type": "code",
   "execution_count": 48,
   "metadata": {},
   "outputs": [
    {
     "name": "stdout",
     "output_type": "stream",
     "text": [
      "Hello Bob!\n",
      "Hello Bob!!!\n"
     ]
    }
   ],
   "source": [
    "def greeting(name,greting=\"Hello \", excl=\"!\"):\n",
    "    return greting + name + excl\n",
    "\n",
    "print(greeting(\"Bob\"))\n",
    "print(greeting(\"Bob\", excl=\"!!!\"))\n"
   ]
  },
  {
   "cell_type": "markdown",
   "metadata": {},
   "source": [
    "Below is a function, sum, that does not work. Change the function definition so the code works. The function should still have a required parameter, intx, and an optional parameter, intz with a defualt value of 5.\n",
    "\n"
   ]
  },
  {
   "cell_type": "code",
   "execution_count": null,
   "metadata": {},
   "outputs": [],
   "source": [
    "\n",
    "def sum(intx,intz=5 ):\n",
    "    return intz + intx\n",
    "sum(10)\n"
   ]
  },
  {
   "cell_type": "markdown",
   "metadata": {},
   "source": [
    "Write a function called checkingIfIn that takes three parameters. The first is a required parameter, which should be a string. The second is an optional parameter called direction with a default value of True. The third is an optional parameter called d that has a default value of {'apple': 2, 'pear': 1, 'fruit': 19, 'orange': 5, 'banana': 3, 'grapes': 2, 'watermelon': 7}. Write the function checkingIfIn so that when the second parameter is True, it checks to see if the first parameter is a key in the third parameter; if it is, return True, otherwise return False.\n",
    "\n",
    "But if the second paramter is False, then the function should check to see if the first parameter is not a key of the third. If it’s not, the function should return True in this case, and if it is, it should return False.\n",
    "\n"
   ]
  },
  {
   "cell_type": "code",
   "execution_count": null,
   "metadata": {},
   "outputs": [],
   "source": [
    "def checkingIfIn(str1,direction = True,d = {'apple': 2, 'pear': 1, 'fruit': 19, 'orange': 5, 'banana': 3, 'grapes': 2, 'watermelon': 7}):\n",
    "    if direction == True:\n",
    "        if str1 in d:\n",
    "            return True\n",
    "        else:\n",
    "            return False\n",
    "    else:\n",
    "        if str1 not in d:\n",
    "            return True\n",
    "        else:\n",
    "            return False\n",
    "        \n"
   ]
  },
  {
   "cell_type": "markdown",
   "metadata": {},
   "source": [
    "Write a function, test, that takes in three parameters: a required integer, an optional boolean whose default value is True, and an optional dictionary, called dict1, whose default value is {2:3, 4:5, 6:8}. If the boolean parameter is True, the function should test to see if the integer is a key in the dictionary. The value of that key should then be returned. If the boolean parameter is False, return the boolean value “False”.\n",
    "\n"
   ]
  },
  {
   "cell_type": "code",
   "execution_count": null,
   "metadata": {},
   "outputs": [],
   "source": [
    "def test(x,bool1 = True,dict1 ={2:3, 4:5, 6:8}):\n",
    "    return bool1 and dict1.get(x,False)"
   ]
  },
  {
   "cell_type": "markdown",
   "metadata": {},
   "source": [
    "We have provided the function checkingIfIn such that if the first input parameter is in the third, dictionary, input parameter, then the function returns that value, and otherwise, it returns False. Follow the instructions in the active code window for specific variable assignmemts.\n",
    "\n"
   ]
  },
  {
   "cell_type": "code",
   "execution_count": null,
   "metadata": {},
   "outputs": [],
   "source": [
    "\n",
    "def checkingIfIn(a, direction = True, d = {'apple': 2, 'pear': 1, 'fruit': 19, 'orange': 5, 'banana': 3, 'grapes': 2, 'watermelon': 7}):\n",
    "    if direction == True:\n",
    "        if a in d:\n",
    "            return d[a]\n",
    "        else:\n",
    "            return False\n",
    "    else:\n",
    "        if a not in d:\n",
    "            return True\n",
    "        else:\n",
    "            return d[a]\n",
    "\n",
    "# Call the function so that it returns False and assign that function call to the variable c_false\n",
    "c_false = checkingIfIn('peas')\n",
    "# Call the fucntion so that it returns True and assign it to the variable c_true\n",
    "c_true = checkingIfIn('apples', False, {'carrots': 1, 'peas': 9, 'potatos': 8, 'corn': 32, 'beans': 1})\n",
    "# Call the function so that the value of fruit is assigned to the variable fruit_ans\n",
    "fruit_ans= checkingIfIn('fruit')\n",
    "# Call the function using the first and third parameter so that the value 8 is assigned to the variable param_check\n",
    "param_check = checkingIfIn('potatos', False, {'carrots': 1, 'peas': 9, 'potatos': 8, 'corn': 32, 'beans': 1})\n"
   ]
  },
  {
   "cell_type": "code",
   "execution_count": null,
   "metadata": {},
   "outputs": [],
   "source": []
  },
  {
   "cell_type": "code",
   "execution_count": null,
   "metadata": {},
   "outputs": [],
   "source": []
  },
  {
   "cell_type": "code",
   "execution_count": null,
   "metadata": {},
   "outputs": [],
   "source": []
  },
  {
   "cell_type": "code",
   "execution_count": null,
   "metadata": {},
   "outputs": [],
   "source": []
  },
  {
   "cell_type": "code",
   "execution_count": null,
   "metadata": {},
   "outputs": [],
   "source": []
  },
  {
   "cell_type": "code",
   "execution_count": null,
   "metadata": {},
   "outputs": [],
   "source": []
  },
  {
   "cell_type": "code",
   "execution_count": null,
   "metadata": {},
   "outputs": [],
   "source": []
  },
  {
   "cell_type": "code",
   "execution_count": null,
   "metadata": {},
   "outputs": [],
   "source": []
  },
  {
   "cell_type": "code",
   "execution_count": null,
   "metadata": {},
   "outputs": [],
   "source": []
  },
  {
   "cell_type": "code",
   "execution_count": null,
   "metadata": {},
   "outputs": [],
   "source": []
  },
  {
   "cell_type": "code",
   "execution_count": null,
   "metadata": {},
   "outputs": [],
   "source": []
  },
  {
   "cell_type": "code",
   "execution_count": null,
   "metadata": {},
   "outputs": [],
   "source": []
  },
  {
   "cell_type": "code",
   "execution_count": null,
   "metadata": {},
   "outputs": [],
   "source": []
  },
  {
   "cell_type": "code",
   "execution_count": null,
   "metadata": {},
   "outputs": [],
   "source": []
  },
  {
   "cell_type": "code",
   "execution_count": null,
   "metadata": {},
   "outputs": [],
   "source": []
  },
  {
   "cell_type": "code",
   "execution_count": null,
   "metadata": {},
   "outputs": [],
   "source": []
  },
  {
   "cell_type": "code",
   "execution_count": null,
   "metadata": {},
   "outputs": [],
   "source": []
  },
  {
   "cell_type": "code",
   "execution_count": null,
   "metadata": {},
   "outputs": [],
   "source": []
  },
  {
   "cell_type": "code",
   "execution_count": null,
   "metadata": {},
   "outputs": [],
   "source": []
  },
  {
   "cell_type": "code",
   "execution_count": null,
   "metadata": {},
   "outputs": [],
   "source": []
  },
  {
   "cell_type": "code",
   "execution_count": null,
   "metadata": {},
   "outputs": [],
   "source": []
  },
  {
   "cell_type": "code",
   "execution_count": null,
   "metadata": {},
   "outputs": [],
   "source": []
  },
  {
   "cell_type": "code",
   "execution_count": null,
   "metadata": {},
   "outputs": [],
   "source": []
  },
  {
   "cell_type": "code",
   "execution_count": null,
   "metadata": {},
   "outputs": [],
   "source": []
  },
  {
   "cell_type": "code",
   "execution_count": null,
   "metadata": {},
   "outputs": [],
   "source": []
  },
  {
   "cell_type": "code",
   "execution_count": null,
   "metadata": {},
   "outputs": [],
   "source": []
  },
  {
   "cell_type": "code",
   "execution_count": null,
   "metadata": {},
   "outputs": [],
   "source": []
  },
  {
   "cell_type": "code",
   "execution_count": null,
   "metadata": {},
   "outputs": [],
   "source": []
  },
  {
   "cell_type": "code",
   "execution_count": null,
   "metadata": {},
   "outputs": [],
   "source": []
  },
  {
   "cell_type": "code",
   "execution_count": null,
   "metadata": {},
   "outputs": [],
   "source": []
  }
 ],
 "metadata": {
  "kernelspec": {
   "display_name": "Python 3",
   "language": "python",
   "name": "python3"
  },
  "language_info": {
   "codemirror_mode": {
    "name": "ipython",
    "version": 3
   },
   "file_extension": ".py",
   "mimetype": "text/x-python",
   "name": "python",
   "nbconvert_exporter": "python",
   "pygments_lexer": "ipython3",
   "version": "3.7.6"
  }
 },
 "nbformat": 4,
 "nbformat_minor": 4
}
