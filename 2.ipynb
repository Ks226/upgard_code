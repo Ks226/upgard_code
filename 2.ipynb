{
 "cells": [
  {
   "cell_type": "markdown",
   "metadata": {},
   "source": [
    "Print The Pattern\n",
    "Description\n",
    "Printing different patterns is a very good exercise to reinforce iteration through loops and strong logic building. Here you will be given a positive integer and you will generate pattern based on that integer.\n",
    "\n",
    "----------------------------------------------------------------------\n",
    "Input:\n",
    "A positive integer n\n",
    "1 <= n <=20\n",
    "\n",
    "Output:\n",
    "A pattern as described by the Sample input and outputs below.\n",
    "\n",
    "----------------------------------------------------------------------\n",
    "Sample input:\n",
    "5\n",
    "\n",
    "Sample output:\n",
    "    *\n",
    "   *_*\n",
    "  *_*_*\n",
    " *_*_*_*\n",
    "*_*_*_*_*\n",
    "\n",
    "----------------------------------------------------------------------\n",
    "Sample input:\n",
    "3\n",
    "\n",
    "Sample output:\n",
    "  *\n",
    " *_*\n",
    "*_*_*\n",
    "\n",
    "Don't worry if you are still confused, watch Sajan explain the problem in detail and then you will feel confident to solve it on your own.\n",
    "\n",
    "Replay\n",
    "Mute\n",
    "Current Time \n",
    "1:40\n",
    "/\n",
    "Duration \n",
    "1:40\n",
    " \n",
    "1xPlayback Rate\n",
    "Quality LevelsPicture-in-Picture\n",
    "Fullscreen\n",
    "Let's see Sajan convert the above logic to code in the upcoming video. \n",
    "\n"
   ]
  },
  {
   "cell_type": "code",
   "execution_count": null,
   "metadata": {},
   "outputs": [],
   "source": [
    "n = int(input())\n",
    "i = 1\n",
    "for i in range(1,1+n):\n",
    "    for j in range(n-i):\n",
    "        print(\" \",end=\" \")\n",
    "    for k in range(i-1):\n",
    "        print(\"*_\",end=\" \")\n",
    "    print(\"*\")        \n"
   ]
  },
  {
   "cell_type": "code",
   "execution_count": 1,
   "metadata": {},
   "outputs": [
    {
     "name": "stdout",
     "output_type": "stream",
     "text": [
      "2\n",
      "3\n",
      "23\n"
     ]
    }
   ],
   "source": [
    "a=input()\n",
    "b=input()\n",
    "print(a+b)"
   ]
  },
  {
   "cell_type": "code",
   "execution_count": 4,
   "metadata": {},
   "outputs": [
    {
     "name": "stdout",
     "output_type": "stream",
     "text": [
      "2\n",
      "3\n",
      "5.0\n"
     ]
    }
   ],
   "source": [
    "a=input()\n",
    "b=input()\n",
    "sum=float(a)+float(b)\n",
    "print(sum)"
   ]
  },
  {
   "cell_type": "code",
   "execution_count": 7,
   "metadata": {},
   "outputs": [
    {
     "name": "stdout",
     "output_type": "stream",
     "text": [
      "enter the number40\n",
      "enter the 2nd number3\n",
      "43.0\n"
     ]
    }
   ],
   "source": [
    "print(float(input('enter the number'))+float(input('enter the 2nd number')))"
   ]
  },
  {
   "cell_type": "code",
   "execution_count": 9,
   "metadata": {},
   "outputs": [
    {
     "name": "stdout",
     "output_type": "stream",
     "text": [
      "5\n",
      "5\n",
      "10\n"
     ]
    }
   ],
   "source": [
    "a=input()\n",
    "b=input()\n",
    "print(int(a)+int(b))\n",
    "\n"
   ]
  },
  {
   "cell_type": "code",
   "execution_count": 10,
   "metadata": {},
   "outputs": [
    {
     "name": "stdout",
     "output_type": "stream",
     "text": [
      "2\n"
     ]
    },
    {
     "data": {
      "text/plain": [
       "1616.0"
      ]
     },
     "execution_count": 10,
     "metadata": {},
     "output_type": "execute_result"
    }
   ],
   "source": [
    "float(\"16\"*int(input()))"
   ]
  },
  {
   "cell_type": "code",
   "execution_count": 11,
   "metadata": {},
   "outputs": [
    {
     "name": "stdout",
     "output_type": "stream",
     "text": [
      "2\n",
      "4\n"
     ]
    },
    {
     "data": {
      "text/plain": [
       "6"
      ]
     },
     "execution_count": 11,
     "metadata": {},
     "output_type": "execute_result"
    }
   ],
   "source": [
    "int(input())+int(input())"
   ]
  },
  {
   "cell_type": "code",
   "execution_count": 1,
   "metadata": {},
   "outputs": [
    {
     "name": "stdout",
     "output_type": "stream",
     "text": [
      "16\n"
     ]
    }
   ],
   "source": [
    "kajal_singh=16\n",
    "print(kajal_singh)"
   ]
  },
  {
   "cell_type": "code",
   "execution_count": 6,
   "metadata": {},
   "outputs": [
    {
     "data": {
      "text/plain": [
       "True"
      ]
     },
     "execution_count": 6,
     "metadata": {},
     "output_type": "execute_result"
    }
   ],
   "source": [
    "'hello'=='hello'\n",
    "7!=8"
   ]
  },
  {
   "cell_type": "code",
   "execution_count": 7,
   "metadata": {},
   "outputs": [
    {
     "data": {
      "text/plain": [
       "False"
      ]
     },
     "execution_count": 7,
     "metadata": {},
     "output_type": "execute_result"
    }
   ],
   "source": [
    "'hello'=='kajal'"
   ]
  },
  {
   "cell_type": "code",
   "execution_count": 8,
   "metadata": {},
   "outputs": [
    {
     "name": "stdout",
     "output_type": "stream",
     "text": [
      "5\n"
     ]
    }
   ],
   "source": [
    "s=10\n",
    "a=12\n",
    "del s\n",
    "a=4\n",
    "s=1\n",
    "print(int(a)+int(s))"
   ]
  },
  {
   "cell_type": "code",
   "execution_count": 15,
   "metadata": {},
   "outputs": [
    {
     "name": "stdout",
     "output_type": "stream",
     "text": [
      "10 is greater than 5\n",
      "program ended\n"
     ]
    }
   ],
   "source": [
    "if 10>5:\n",
    " print(\"10 is greater than 5\")\n",
    "print(\"program ended\")"
   ]
  },
  {
   "cell_type": "code",
   "execution_count": 16,
   "metadata": {},
   "outputs": [
    {
     "ename": "IndentationError",
     "evalue": "expected an indented block (<ipython-input-16-380aea2ff60a>, line 2)",
     "output_type": "error",
     "traceback": [
      "\u001b[1;36m  File \u001b[1;32m\"<ipython-input-16-380aea2ff60a>\"\u001b[1;36m, line \u001b[1;32m2\u001b[0m\n\u001b[1;33m    print(\"10 is greater than 5\")\u001b[0m\n\u001b[1;37m        ^\u001b[0m\n\u001b[1;31mIndentationError\u001b[0m\u001b[1;31m:\u001b[0m expected an indented block\n"
     ]
    }
   ],
   "source": [
    "if 10>5:\n",
    "print(\"10 is greater than 5\")\n",
    "print(\"program ended\")"
   ]
  },
  {
   "cell_type": "code",
   "execution_count": 21,
   "metadata": {},
   "outputs": [
    {
     "name": "stdout",
     "output_type": "stream",
     "text": [
      "hello guys\n",
      "eheruy\n",
      "sddtyue\n",
      "hello\n",
      "haha\n"
     ]
    }
   ],
   "source": [
    "k=90\n",
    "if k>10:\n",
    " print(\"hello guys\")\n",
    " print(\"eheruy\")\n",
    "print(\"sddtyue\")\n",
    "if k==90:\n",
    " print(\"hello\")\n",
    "print(\"haha\")"
   ]
  },
  {
   "cell_type": "code",
   "execution_count": 29,
   "metadata": {},
   "outputs": [
    {
     "name": "stdout",
     "output_type": "stream",
     "text": [
      "Enter the number to print the tables for:1\n",
      "1 x 1 = 1\n",
      "1 x 2 = 2\n",
      "1 x 3 = 3\n",
      "1 x 4 = 4\n",
      "1 x 5 = 5\n",
      "1 x 6 = 6\n",
      "1 x 7 = 7\n",
      "1 x 8 = 8\n",
      "1 x 9 = 9\n",
      "1 x 10 = 10\n"
     ]
    }
   ],
   "source": [
    "n=int(input(\"Enter the number to print the tables for:\"))\n",
    "for i in range(1,11):\n",
    " print(n,\"x\",i,\"=\",n*i)\n"
   ]
  },
  {
   "cell_type": "code",
   "execution_count": 31,
   "metadata": {},
   "outputs": [
    {
     "name": "stdout",
     "output_type": "stream",
     "text": [
      "hahahah\n"
     ]
    }
   ],
   "source": [
    "if 10>3:\n",
    " print(\"hahahah\")\n",
    "else:\n",
    " print(\"hhefheuy\")"
   ]
  },
  {
   "cell_type": "code",
   "execution_count": 2,
   "metadata": {},
   "outputs": [
    {
     "name": "stdout",
     "output_type": "stream",
     "text": [
      "enter the order prize=700\n",
      "congratulation you get a movie ticket\n",
      "your oder will be dilevered with half an hr\n"
     ]
    }
   ],
   "source": [
    "order=int(input(\"enter the order prize=\"))\n",
    "if order>=500:\n",
    " print(\"congratulation you get a movie ticket\")\n",
    "else:\n",
    " print(\"if ur order will be more than 500 then uh get a movie ticket\")\n",
    "print(\"your oder will be dilevered with half an hr\")"
   ]
  },
  {
   "cell_type": "code",
   "execution_count": 4,
   "metadata": {},
   "outputs": [
    {
     "name": "stdout",
     "output_type": "stream",
     "text": [
      "Enter your password1231\n",
      "ur password is not match\n",
      "program is ended\n"
     ]
    }
   ],
   "source": [
    "pwd=int(input(\"Enter your password=\"))\n",
    "if pwd==3119:\n",
    "   print('ur password is matced')\n",
    "else:\n",
    "   print(\"ur password is not match\")\n",
    "print('program is ended')"
   ]
  },
  {
   "cell_type": "code",
   "execution_count": null,
   "metadata": {},
   "outputs": [],
   "source": [
    "divi=int(input('enter the marks'))\n",
    "if divi=>60&&divi<=100:\n",
    " print(\"first division\")\n",
    "elif divi>=33&&divi<=60:\n",
    "   print(\"second division\")\n",
    "elif divi=>22&&divi<=33:\n",
    "   print(\"third dividion\") \n",
    "elif divi=>15&&divi<=22:\n",
    " print('fail')\n",
    "elif:\n",
    "   print('invalid option') \n"
   ]
  },
  {
   "cell_type": "code",
   "execution_count": null,
   "metadata": {},
   "outputs": [],
   "source": [
    "num = 7\n",
    "if num == 5:\n",
    "   print(\"Number is 5\")\n",
    "elif num == 11:\n",
    "   print(\"Number is 11\")\n",
    "elif num == 7:\n",
    "   print(\"Number is 7\")\n",
    "else:\n",
    "   print(\"Number isn't 5, 11 or 7\")"
   ]
  },
  {
   "cell_type": "code",
   "execution_count": null,
   "metadata": {},
   "outputs": [],
   "source": [
    "print('kajal')"
   ]
  },
  {
   "cell_type": "markdown",
   "metadata": {},
   "source": [
    "# list"
   ]
  },
  {
   "cell_type": "code",
   "execution_count": 6,
   "metadata": {},
   "outputs": [
    {
     "name": "stdout",
     "output_type": "stream",
     "text": [
      "[11, 12, 13, 14, ['mango', 'strowerry'], ['Ram', 'Sita'], 12.4, 122.5, 2213.23, 'radha', 'k', 'r', 'i', 's', 'h', 'n', 'a']\n"
     ]
    }
   ],
   "source": [
    "list=[11,12,13,14,[\"mango\",\"strowerry\"],[\"Ram\",\"Sita\"],12.4,122.5,2213.23]\n",
    "list[4]\n",
    "list.append(\"radha\")\n",
    "list.extend(\"krishna\")\n",
    "print(list)"
   ]
  }
 ],
 "metadata": {
  "kernelspec": {
   "display_name": "Python 3",
   "language": "python",
   "name": "python3"
  },
  "language_info": {
   "codemirror_mode": {
    "name": "ipython",
    "version": 3
   },
   "file_extension": ".py",
   "mimetype": "text/x-python",
   "name": "python",
   "nbconvert_exporter": "python",
   "pygments_lexer": "ipython3",
   "version": "3.7.6"
  }
 },
 "nbformat": 4,
 "nbformat_minor": 4
}
