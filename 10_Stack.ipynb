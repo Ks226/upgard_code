{
 "cells": [
  {
   "cell_type": "markdown",
   "metadata": {
    "colab_type": "text",
    "id": "T1U_safHmVIW"
   },
   "source": [
    "#Stack\n",
    "\n",
    "Stack is a linear data structure in which the elements are inserted and deleted from only one end.\n",
    "\n",
    "They follow a FILO (First in last out) or \n",
    "LIFO (last in first out) approach. "
   ]
  },
  {
   "cell_type": "markdown",
   "metadata": {
    "colab_type": "text",
    "id": "4QCMd9CJmhZj"
   },
   "source": [
    "Let's see how we can implement the stack using array."
   ]
  },
  {
   "cell_type": "code",
   "execution_count": 1,
   "metadata": {
    "colab": {},
    "colab_type": "code",
    "id": "hdoAPz4Imtn6"
   },
   "outputs": [],
   "source": [
    "class Stack:\n",
    "    \n",
    "    max_length = 0\n",
    "\n",
    "    #initializing Stack with its parameters\n",
    "    def __init__(self, maxlength):\n",
    "        self.stack = []\n",
    "        self.max_length = maxlength\n",
    "        self.length = 0\n",
    "\n",
    "    # Inserting new element in stack\n",
    "    def push(self,value):\n",
    "        if self.length < self.max_length:\n",
    "            if self.length == 0:\n",
    "                self.stack.append(value) \n",
    "                self.length += 1\n",
    "                return self.stack\n",
    "            self.stack.append(value)\n",
    "            self.length += 1\n",
    "            return self.stack\n",
    "        else:\n",
    "            print(\"Overflow\")\n",
    "\n",
    "    # Deleting top element from stack\n",
    "    def pop(self):\n",
    "        if self.length == 0:\n",
    "            return 'Under Flow'\n",
    "        deleted = self.stack.pop()\n",
    "        self.length -= 1\n",
    "        return deleted\n",
    "\n",
    "    # Returning the top element of stack\n",
    "    def peek(self):\n",
    "        if self.length:\n",
    "            print(self.stack[-1])\n",
    "        else:\n",
    "            print(\"Under Flow\")\n",
    "\n",
    "    def isEmpty(self):\n",
    "        return self.length == 0\n",
    "    \n",
    "    def printStack(self):\n",
    "        print(self.stack)"
   ]
  },
  {
   "cell_type": "code",
   "execution_count": 2,
   "metadata": {
    "colab": {
     "base_uri": "https://localhost:8080/",
     "height": 139
    },
    "colab_type": "code",
    "id": "fjl97pmgmwY8",
    "outputId": "b0263661-0c9d-468c-81ff-437b0e5dfc60"
   },
   "outputs": [
    {
     "name": "stdout",
     "output_type": "stream",
     "text": [
      "Overflow\n",
      "[1, 2, 3]\n",
      "[1, 2]\n",
      "1\n",
      "[1]\n",
      "[]\n"
     ]
    },
    {
     "data": {
      "text/plain": [
       "'Under Flow'"
      ]
     },
     "execution_count": 2,
     "metadata": {
      "tags": []
     },
     "output_type": "execute_result"
    }
   ],
   "source": [
    "stack = Stack(3)            # ceating an object of stack\n",
    "stack.push(1)\n",
    "stack.push(2)\n",
    "stack.push(3)\n",
    "stack.push(4)           # Getting Overflow condition\n",
    "stack.printStack()      # Printing values of stack\n",
    "stack.pop()\n",
    "stack.printStack()\n",
    "stack.pop()\n",
    "stack.peek()\n",
    "stack.printStack()\n",
    "stack.pop()\n",
    "stack.printStack() \n",
    "stack.pop()             # Getting underflow condition\n"
   ]
  },
  {
   "cell_type": "markdown",
   "metadata": {
    "colab_type": "text",
    "id": "bAK4Pba5mfbx"
   },
   "source": [
    "Now that we have already done the stack using array let's implement stack using a linked list."
   ]
  },
  {
   "cell_type": "code",
   "execution_count": 0,
   "metadata": {
    "colab": {},
    "colab_type": "code",
    "id": "1DTRGjS7m4gF"
   },
   "outputs": [],
   "source": [
    "class Node():\n",
    "    def __init__(self, value):\n",
    "        self.value = value\n",
    "        self.next = None\n",
    "\n",
    "\n",
    "class Stack():\n",
    "    def __init__(self):\n",
    "        self.top = None\n",
    "        self.length = 0\n",
    "\n",
    "    def push(self, value):\n",
    "        newNode = Node(value)\n",
    "        if self.length == 0:\n",
    "            self.top = newNode\n",
    "            self.length += 1\n",
    "        else:\n",
    "            prevTop = self.top\n",
    "            self.top = newNode\n",
    "            newNode.next = prevTop\n",
    "            self.length += 1\n",
    "\n",
    "    def pop(self):\n",
    "        if self.length == 0:\n",
    "            print(\"Under Flow\")\n",
    "        \n",
    "        else:\n",
    "            delNode = self.top\n",
    "            self.top = delNode.next\n",
    "            self.length -= 1\n",
    "            return delNode\n",
    "    \n",
    "    def peek(self):\n",
    "        print(self.top.value)\n",
    "    \n",
    "    def isEmpty(self):\n",
    "        return self.length == 0\n",
    "\n",
    "    def printStack(self):\n",
    "        curNode = self.top\n",
    "        arr = []\n",
    "       \n",
    "        for _ in range(self.length):\n",
    "            arr.append(curNode.value)\n",
    "            curNode = curNode.next\n",
    "        print(*arr)"
   ]
  },
  {
   "cell_type": "code",
   "execution_count": 12,
   "metadata": {
    "colab": {
     "base_uri": "https://localhost:8080/",
     "height": 104
    },
    "colab_type": "code",
    "id": "fm_HQsQeEy3N",
    "outputId": "9b26af19-b8f9-4d38-b37c-c1b9c5cf6b16"
   },
   "outputs": [
    {
     "name": "stdout",
     "output_type": "stream",
     "text": [
      "4 3 2 1\n",
      "3 2 1\n",
      "2\n",
      "2 1\n",
      "1\n"
     ]
    }
   ],
   "source": [
    "stack = Stack()\n",
    "stack.push(1)\n",
    "stack.push(2)\n",
    "stack.push(3)\n",
    "stack.push(4)           # Getting Overflow condition\n",
    "stack.printStack()      # Printing values of stack\n",
    "stack.pop()\n",
    "stack.printStack()\n",
    "stack.pop()\n",
    "stack.peek()\n",
    "stack.printStack()\n",
    "stack.pop()\n",
    "stack.printStack() \n",
    "\n"
   ]
  },
  {
   "cell_type": "markdown",
   "metadata": {
    "colab_type": "text",
    "id": "5V_7TeV9m0cz"
   },
   "source": [
    "##String reversal\n",
    "\n",
    "Program to reverse a string."
   ]
  },
  {
   "cell_type": "code",
   "execution_count": 0,
   "metadata": {
    "colab": {},
    "colab_type": "code",
    "id": "eDXNfdF55B4Q"
   },
   "outputs": [],
   "source": [
    "stack = Stack()"
   ]
  },
  {
   "cell_type": "code",
   "execution_count": 15,
   "metadata": {
    "colab": {
     "base_uri": "https://localhost:8080/",
     "height": 52
    },
    "colab_type": "code",
    "id": "hd3VWu1rkAFj",
    "outputId": "f281ad00-c2c4-4ba4-fbc8-41b74783c442"
   },
   "outputs": [
    {
     "name": "stdout",
     "output_type": "stream",
     "text": [
      "Enter a string : Sandeep\n",
      "peednaS"
     ]
    }
   ],
   "source": [
    "str = input(\"Enter a string : \")\n",
    "\n",
    "for i in str:\n",
    "    stack.push(i)\n",
    "\n",
    "for i in range(stack.length):\n",
    "    print(stack.pop().value, end=\"\")"
   ]
  },
  {
   "cell_type": "markdown",
   "metadata": {
    "colab_type": "text",
    "id": "nZm4PX5Hm5f8"
   },
   "source": [
    "##Balanced Parantheses problem\n",
    "\n",
    "Program to check if the parantheses in a given string are balanced or not."
   ]
  },
  {
   "cell_type": "code",
   "execution_count": 34,
   "metadata": {
    "colab": {
     "base_uri": "https://localhost:8080/",
     "height": 295
    },
    "colab_type": "code",
    "id": "AfR5f9njnXvv",
    "outputId": "4c557a4f-c25d-4b6f-b122-63a135ac679d"
   },
   "outputs": [
    {
     "name": "stdout",
     "output_type": "stream",
     "text": [
      "Enter the expression : { a + [ b - 0 ) }\n",
      "{\n",
      "{\n",
      "{\n",
      "{\n",
      "{\n",
      "{\n",
      "[ {\n",
      "[ {\n",
      "[ {\n",
      "[ {\n",
      "[ {\n",
      "[ {\n",
      "[ {\n",
      "[ {\n",
      "Unbalanced\n"
     ]
    }
   ],
   "source": [
    "stack = Stack()\n",
    "\n",
    "str = input(\"Enter the expression : \")\n",
    "\n",
    "open_brackets = ['(', '[', '{']\n",
    "close_brackets = [')', ']', '}']\n",
    "\n",
    "for i in str: \n",
    "    if i in open_brackets : \n",
    "        stack.push(i)\n",
    "    elif i in close_brackets :\n",
    "        close_bracket = close_brackets.index(i)\n",
    "        if stack.length > 0 and close_bracket == open_brackets.index(stack.top.value):\n",
    "            stack.pop()\n",
    "        else:\n",
    "            break           # forget to add this else block\n",
    "        \n",
    "    #stack.printStack()\n",
    "\n",
    "\n",
    "if stack.length == 0:\n",
    "    print(\"Balanced\")\n",
    "else:\n",
    "    print(\"Unbalanced\")"
   ]
  },
  {
   "cell_type": "code",
   "execution_count": 0,
   "metadata": {
    "colab": {},
    "colab_type": "code",
    "id": "b9X4S7BFESNW"
   },
   "outputs": [],
   "source": []
  }
 ],
 "metadata": {
  "colab": {
   "collapsed_sections": [],
   "name": "10 - Stack.ipynb",
   "provenance": [],
   "toc_visible": true
  },
  "kernelspec": {
   "display_name": "Python 3",
   "language": "python",
   "name": "python3"
  },
  "language_info": {
   "codemirror_mode": {
    "name": "ipython",
    "version": 3
   },
   "file_extension": ".py",
   "mimetype": "text/x-python",
   "name": "python",
   "nbconvert_exporter": "python",
   "pygments_lexer": "ipython3",
   "version": "3.7.6"
  }
 },
 "nbformat": 4,
 "nbformat_minor": 1
}
